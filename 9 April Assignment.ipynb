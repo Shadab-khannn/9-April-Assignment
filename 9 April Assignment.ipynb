{
 "cells": [
  {
   "cell_type": "code",
   "execution_count": null,
   "id": "c2c00879-b6ac-4611-ba71-7d93c52aa9c7",
   "metadata": {},
   "outputs": [],
   "source": [
    "Q1. What is Bayes' theorem?"
   ]
  },
  {
   "cell_type": "markdown",
   "id": "8fcc1f28-4e5e-48d1-9698-5cc53e7be115",
   "metadata": {},
   "source": [
    "ANS -"
   ]
  },
  {
   "cell_type": "code",
   "execution_count": null,
   "id": "7fabc6f0-531d-4a60-ad30-f0c3e79d537a",
   "metadata": {},
   "outputs": [],
   "source": [
    "Bayes’ theorem is a mathematical formula that describes the probability of an event occurring based on prior knowledge of \n",
    "conditions that might be related to the event. It is named after Thomas Bayes, an 18th-century British statistician. \n",
    "The theorem is used in a wide range of fields, from science and engineering to economics and finance.\n",
    "\n",
    "The theorem is stated mathematically as the following equation:\n",
    "\n",
    "P(A|B) = P(B|A) * P(A) / P(B)\n",
    "\n",
    "where A and B are events and P(A|B) is the probability of event A occurring given that B is true. It is also called the posterior\n",
    "probability of A given B. P(B|A) is the probability of event B occurring given that A is true. P(A) and P(B) are the probabilities\n",
    "of A and B occurring independently."
   ]
  },
  {
   "cell_type": "code",
   "execution_count": null,
   "id": "f618c9fe-3ea4-42eb-9d8a-f6dc24656bfa",
   "metadata": {},
   "outputs": [],
   "source": []
  },
  {
   "cell_type": "code",
   "execution_count": null,
   "id": "d43c911a-1bf4-4e5c-8461-286115ff2af5",
   "metadata": {},
   "outputs": [],
   "source": [
    "Q2. What is the formula for Bayes' theorem?"
   ]
  },
  {
   "cell_type": "markdown",
   "id": "5e5d813c-f163-43c7-8def-8e8b6ab87897",
   "metadata": {},
   "source": [
    "ANS -"
   ]
  },
  {
   "cell_type": "code",
   "execution_count": null,
   "id": "fab8d2a4-e684-4741-b1e7-22c21f6bd265",
   "metadata": {},
   "outputs": [],
   "source": [
    "The formula for Bayes’ theorem is:\n",
    "\n",
    "P(A|B) = P(B|A) * P(A) / P(B)\n",
    "\n",
    "where A and B are events and P(A|B) is the probability of event A occurring given that B is true. It is also called the \n",
    "posterior probability of A given B. P(B|A) is the probability of event B occurring given that A is true. P(A) and P(B) are\n",
    "the probabilities of A and B occurring independently."
   ]
  },
  {
   "cell_type": "code",
   "execution_count": null,
   "id": "5fd86d7f-2a6d-4186-8cf9-85dcf3809e07",
   "metadata": {},
   "outputs": [],
   "source": []
  },
  {
   "cell_type": "code",
   "execution_count": null,
   "id": "d6c7a54a-2577-4d0e-88bb-9356c1c7cb8c",
   "metadata": {},
   "outputs": [],
   "source": [
    "Q3. How is Bayes' theorem used in practice?"
   ]
  },
  {
   "cell_type": "markdown",
   "id": "9d0e0b92-e16d-421f-bcf5-198082900170",
   "metadata": {},
   "source": [
    "ANS-"
   ]
  },
  {
   "cell_type": "code",
   "execution_count": null,
   "id": "b9ea3aba-9899-489c-bea5-df220e991a03",
   "metadata": {},
   "outputs": [],
   "source": [
    "Bayes’ theorem is used in a wide range of fields, from science and engineering to economics and finance.\n",
    "One of the many applications of Bayes’ theorem is Bayesian inference, a particular approach to statistical inference.\n",
    "When applied, the probabilities involved in the theorem may have different probability interpretations.\n",
    "\n",
    "Bayes’ theorem can be used to determine the accuracy of medical test results by taking into consideration how likely any given\n",
    "person is to have a disease and the general accuracy of the test1. It can also be used in weather forecasting3 and in Artificial \n",
    "Intelligence."
   ]
  },
  {
   "cell_type": "code",
   "execution_count": null,
   "id": "5432422a-2342-48b3-92e7-56fbcc97cc8c",
   "metadata": {},
   "outputs": [],
   "source": []
  },
  {
   "cell_type": "code",
   "execution_count": null,
   "id": "b8ac2f01-0e09-41f5-85f0-9e4cbc40b1d2",
   "metadata": {},
   "outputs": [],
   "source": [
    "Q4. What is the relationship between Bayes' theorem and conditional probability?"
   ]
  },
  {
   "cell_type": "markdown",
   "id": "c54c9b30-eaec-4f28-a182-dd12ba9fc511",
   "metadata": {},
   "source": [
    "ANS="
   ]
  },
  {
   "cell_type": "code",
   "execution_count": null,
   "id": "4eee411b-b038-471d-8426-2ff4bffa5dbc",
   "metadata": {},
   "outputs": [],
   "source": [
    "Bayes’ theorem is related to conditional probability because it involves calculating the probability of an event occurring\n",
    "given that another event has occurred. In other words, it involves calculating the probability of an event A given that\n",
    "another event B has occurred. This is known as the posterior probability of A given B. Bayes’ theorem takes into account\n",
    "prior probability distributions to generate posterior probabilities."
   ]
  },
  {
   "cell_type": "code",
   "execution_count": null,
   "id": "1c804b3d-d324-4999-9ef3-8cf910a94d17",
   "metadata": {},
   "outputs": [],
   "source": []
  },
  {
   "cell_type": "code",
   "execution_count": null,
   "id": "03fec091-d900-4afb-81ff-1a8e1bbe12ff",
   "metadata": {},
   "outputs": [],
   "source": [
    "Q5. How do you choose which type of Naive Bayes classifier to use for any given problem?"
   ]
  },
  {
   "cell_type": "markdown",
   "id": "9169e8fe-f9d8-40d3-91d4-57e8663c6beb",
   "metadata": {},
   "source": [
    "ANS-"
   ]
  },
  {
   "cell_type": "code",
   "execution_count": null,
   "id": "f9c41629-4f76-4f83-bad6-392739e81f26",
   "metadata": {},
   "outputs": [],
   "source": [
    "There are different types of Naive Bayes classifiers, including Gaussian Naïve Bayes (GaussianNB), Multinomial Naïve Bayes (MNB),\n",
    "and Bernoulli Naïve Bayes (BNB). The choice of which type of Naive Bayes classifier to use for any given problem depends on the\n",
    "nature of the data and the problem being solved. \n",
    "\n",
    "For example, Gaussian Naïve Bayes is used with Gaussian distributions—i.e. normal distributions—and continuous variables. \n",
    "Multinomial Naïve Bayes is used when the features are discrete counts. Bernoulli Naïve Bayes is used when the features are binary."
   ]
  },
  {
   "cell_type": "code",
   "execution_count": null,
   "id": "b170e629-04a5-4f3b-9f5c-4d68cdbcc93e",
   "metadata": {},
   "outputs": [],
   "source": []
  },
  {
   "cell_type": "code",
   "execution_count": null,
   "id": "e0044743-7f38-4b1b-a6b1-467e7108230b",
   "metadata": {},
   "outputs": [],
   "source": [
    "Naive Bayes is a probabilistic algorithm that makes use of Bayes' theorem to predict the class of a new instance.\n",
    "It assumes that the effect of a particular feature in a class is independent of other features. In this case, we have two features\n",
    "X1 and X2 and two possible classes A and B. We want to classify a new instance with features X1 = 3 and X2 = 4. \n",
    "The following table shows the frequency of each feature value for each class:\n",
    "\n",
    "| Class | X1=1 | X1=2 | X1=3 | X2=1 | X2=2 | X2=3 | X2=4 |\n",
    "|-------|------|------|------|------|------|------|------|\n",
    "| A     | 3    | 3    | 4    | 4    | 3    | 3    | 3    |\n",
    "| B     | 2    | 2    | 1    | 2    | 2    | 2    | 3    |\n",
    "\n",
    "Assuming equal prior probabilities for each class, we can calculate the likelihood of each class given the feature values as follows:\n",
    "\n",
    "P(X1=3|A) = 4/10 = 0.4\n",
    "P(X2=4|A) = 3/10 = 0.3\n",
    "P(X1=3|B) = 1/9 ≈ 0.111\n",
    "P(X2=4|B) = 1/9 ≈ 0.111\n",
    "\n",
    "Using Bayes' theorem, we can calculate the posterior probability of each class given the feature values as follows:\n",
    "\n",
    "P(A|X1=3,X2=4) ∝ P(X1=3|A) * P(X2=4|A) * P(A)\n",
    "               = 0.4 * 0.3 * (1/2)\n",
    "               = 0.06\n",
    "\n",
    "P(B|X1=3,X2=4) ∝ P(X1=3|B) * P(X2=4|B) * P(B)\n",
    "               ≈ 0.111 * 0.111 * (1/2)\n",
    "               ≈ 0.006\n",
    "\n",
    "Therefore, Naive Bayes would predict that the new instance belongs to class A since it has a higher posterior probability than class B.\n",
    "\n"
   ]
  },
  {
   "cell_type": "code",
   "execution_count": null,
   "id": "2669e2c8-92d6-4219-b365-9fb7a7a45c87",
   "metadata": {},
   "outputs": [],
   "source": []
  },
  {
   "cell_type": "code",
   "execution_count": null,
   "id": "ce7cb305-b5e0-451e-a7ce-c9820722c3d2",
   "metadata": {},
   "outputs": [],
   "source": []
  },
  {
   "cell_type": "code",
   "execution_count": null,
   "id": "0e7d3c6f-3608-45e1-94fc-0fc05ae17993",
   "metadata": {},
   "outputs": [],
   "source": []
  },
  {
   "cell_type": "code",
   "execution_count": null,
   "id": "15539b91-a932-42f0-bf87-5b51c0b200dd",
   "metadata": {},
   "outputs": [],
   "source": []
  },
  {
   "cell_type": "code",
   "execution_count": null,
   "id": "528885da-8a33-4356-aea2-11a58a652f72",
   "metadata": {},
   "outputs": [],
   "source": []
  },
  {
   "cell_type": "code",
   "execution_count": null,
   "id": "280ef3ce-bf05-4611-a939-425e4b77a5be",
   "metadata": {},
   "outputs": [],
   "source": []
  },
  {
   "cell_type": "code",
   "execution_count": null,
   "id": "cd0592a8-f27b-4f07-8800-a09434846511",
   "metadata": {},
   "outputs": [],
   "source": []
  },
  {
   "cell_type": "code",
   "execution_count": null,
   "id": "aee2a695-cbce-4b17-8df4-7d7259299d4f",
   "metadata": {},
   "outputs": [],
   "source": []
  },
  {
   "cell_type": "code",
   "execution_count": null,
   "id": "ab7d0e1d-db91-44ec-94d0-1bd004690153",
   "metadata": {},
   "outputs": [],
   "source": []
  },
  {
   "cell_type": "code",
   "execution_count": null,
   "id": "01cb16ae-8c46-4d50-8e7a-ad3691389cc0",
   "metadata": {},
   "outputs": [],
   "source": []
  },
  {
   "cell_type": "code",
   "execution_count": null,
   "id": "8487c6e8-8348-4035-8256-62eb5a2d224f",
   "metadata": {},
   "outputs": [],
   "source": []
  }
 ],
 "metadata": {
  "kernelspec": {
   "display_name": "Python 3 (ipykernel)",
   "language": "python",
   "name": "python3"
  },
  "language_info": {
   "codemirror_mode": {
    "name": "ipython",
    "version": 3
   },
   "file_extension": ".py",
   "mimetype": "text/x-python",
   "name": "python",
   "nbconvert_exporter": "python",
   "pygments_lexer": "ipython3",
   "version": "3.10.8"
  }
 },
 "nbformat": 4,
 "nbformat_minor": 5
}
